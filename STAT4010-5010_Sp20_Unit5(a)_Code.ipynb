{
 "cells": [
  {
   "cell_type": "markdown",
   "metadata": {},
   "source": [
    "# Unit #5 (a) Code\n",
    "\n",
    "The goal of this notebook is to learn how to implement and interpret one-way and two-way ANOVA and ANCOVA models."
   ]
  },
  {
   "cell_type": "markdown",
   "metadata": {},
   "source": [
    "## Problem #1"
   ]
  },
  {
   "cell_type": "markdown",
   "metadata": {},
   "source": [
    "The goal of the experiment in [\"Comparison of Espresso Coffee Brewing Techniques\"](https://www.sciencedirect.com/science/article/abs/pii/S0260877413004445) (Parenti et al.) is to \"evaluate and compare the differences in terms of quality between espresso coffee made using three different extraction procedures.\" Quality, in this exercise, is measured in terms of the \"foam index\". Foam, according to the authors of this study, is a \"distinctive feature of espresso coffee, as it is absent in other coffee brews and is required for consumer acceptance.\"\n",
    "\n",
    "\n",
    "More compactly, here are the variables in our experimental data set: \n",
    "\n",
    " 1. foamIndx: The foam index is defined as the ratio between the foam and liquid volume (vol vol$􏰀^{-1}\\%$) measured 30 seconds after extraction\n",
    "\n",
    " 2. method: Three methods were studied: \n",
    "        a. Method 1=Bar Machine(BM); \n",
    "        b. Method 2=Hyper-Espresso Method (HIP); and \n",
    "        c. Method 3= I-Espresso System (IT).\n",
    "\n"
   ]
  },
  {
   "cell_type": "markdown",
   "metadata": {},
   "source": [
    "#### (a) Load the data into R, and recode the ${\\tt method}$ variables as a factor with three levels:\n",
    "\n",
    "1. \"1\" = \"Bar Machine\"\n",
    "2. \"2\" = \"Hyper-Espresso Method\"\n",
    "3. \"3\" = \"I-Espresso System\""
   ]
  },
  {
   "cell_type": "code",
   "execution_count": 2,
   "metadata": {},
   "outputs": [
    {
     "name": "stderr",
     "output_type": "stream",
     "text": [
      "Warning message:\n",
      "\"package 'plyr' was built under R version 3.6.2\"------------------------------------------------------------------------------\n",
      "You have loaded plyr after dplyr - this is likely to cause problems.\n",
      "If you need functions from both plyr and dplyr, please load plyr first, then dplyr:\n",
      "library(plyr); library(dplyr)\n",
      "------------------------------------------------------------------------------\n",
      "\n",
      "Attaching package: 'plyr'\n",
      "\n",
      "The following objects are masked from 'package:dplyr':\n",
      "\n",
      "    arrange, count, desc, failwith, id, mutate, rename, summarise,\n",
      "    summarize\n",
      "\n",
      "The following object is masked from 'package:purrr':\n",
      "\n",
      "    compact\n",
      "\n"
     ]
    }
   ],
   "source": [
    "library(tidyverse)\n",
    "library(plyr)\n",
    "esp = read.table(\"https://www.colorado.edu/amath/sites/default/files/attached-files/espresso1.txt\", header = TRUE, sep = \"\\t\")\n",
    "esp$method <- mapvalues(esp$method, c(1,2,3), c(\"Bar Machine\", \"Hyper-Espresso Method\", 'I-Espresso System'))"
   ]
  },
  {
   "cell_type": "markdown",
   "metadata": {},
   "source": [
    "#### (b) Print a numerical summary of the data. How many replications are there in each group?"
   ]
  },
  {
   "cell_type": "code",
   "execution_count": 4,
   "metadata": {},
   "outputs": [
    {
     "data": {
      "text/plain": [
       "    foamIndx        method         \n",
       " Min.   :21.02   Length:27         \n",
       " 1st Qu.:35.66   Class :character  \n",
       " Median :38.52   Mode  :character  \n",
       " Mean   :44.47                     \n",
       " 3rd Qu.:55.23                     \n",
       " Max.   :73.19                     "
      ]
     },
     "metadata": {},
     "output_type": "display_data"
    },
    {
     "data": {
      "text/html": [
       "<ol class=list-inline>\n",
       "\t<li>27</li>\n",
       "\t<li>2</li>\n",
       "</ol>\n"
      ],
      "text/latex": [
       "\\begin{enumerate*}\n",
       "\\item 27\n",
       "\\item 2\n",
       "\\end{enumerate*}\n"
      ],
      "text/markdown": [
       "1. 27\n",
       "2. 2\n",
       "\n",
       "\n"
      ],
      "text/plain": [
       "[1] 27  2"
      ]
     },
     "metadata": {},
     "output_type": "display_data"
    },
    {
     "data": {
      "text/html": [
       "<table>\n",
       "<thead><tr><th scope=col>foamIndx</th><th scope=col>method</th></tr></thead>\n",
       "<tbody>\n",
       "\t<tr><td>36.64      </td><td>Bar Machine</td></tr>\n",
       "\t<tr><td>39.65      </td><td>Bar Machine</td></tr>\n",
       "\t<tr><td>37.74      </td><td>Bar Machine</td></tr>\n",
       "\t<tr><td>35.96      </td><td>Bar Machine</td></tr>\n",
       "\t<tr><td>38.52      </td><td>Bar Machine</td></tr>\n",
       "\t<tr><td>21.02      </td><td>Bar Machine</td></tr>\n",
       "</tbody>\n",
       "</table>\n"
      ],
      "text/latex": [
       "\\begin{tabular}{r|ll}\n",
       " foamIndx & method\\\\\n",
       "\\hline\n",
       "\t 36.64       & Bar Machine\\\\\n",
       "\t 39.65       & Bar Machine\\\\\n",
       "\t 37.74       & Bar Machine\\\\\n",
       "\t 35.96       & Bar Machine\\\\\n",
       "\t 38.52       & Bar Machine\\\\\n",
       "\t 21.02       & Bar Machine\\\\\n",
       "\\end{tabular}\n"
      ],
      "text/markdown": [
       "\n",
       "| foamIndx | method |\n",
       "|---|---|\n",
       "| 36.64       | Bar Machine |\n",
       "| 39.65       | Bar Machine |\n",
       "| 37.74       | Bar Machine |\n",
       "| 35.96       | Bar Machine |\n",
       "| 38.52       | Bar Machine |\n",
       "| 21.02       | Bar Machine |\n",
       "\n"
      ],
      "text/plain": [
       "  foamIndx method     \n",
       "1 36.64    Bar Machine\n",
       "2 39.65    Bar Machine\n",
       "3 37.74    Bar Machine\n",
       "4 35.96    Bar Machine\n",
       "5 38.52    Bar Machine\n",
       "6 21.02    Bar Machine"
      ]
     },
     "metadata": {},
     "output_type": "display_data"
    }
   ],
   "source": [
    "summary(esp)\n",
    "dim(esp)\n",
    "head(esp)"
   ]
  },
  {
   "cell_type": "markdown",
   "metadata": {},
   "source": [
    "There are 9 replications per group for all 3 groups"
   ]
  },
  {
   "cell_type": "markdown",
   "metadata": {},
   "source": [
    "#### (c) Produce a boxplot or violin plot of the data (foam index vs method). Visually assess the differences in mean foam index across methods. Summarize your assessment."
   ]
  },
  {
   "cell_type": "code",
   "execution_count": 5,
   "metadata": {
    "scrolled": true
   },
   "outputs": [
    {
     "data": {
      "image/png": "[encoded data removed]",
      "text/plain": [
       "plot without title"
      ]
     },
     "metadata": {},
     "output_type": "display_data"
    },
    {
     "data": {
      "image/png": "[encoded data removed]",
      "text/plain": [
       "plot without title"
      ]
     },
     "metadata": {},
     "output_type": "display_data"
    }
   ],
   "source": [
    "library(ggplot2)\n",
    "#library(Hmisc)\n",
    "esp$method = as.factor(esp$method)\n",
    "ggplot(data = esp, aes(x = method, y = foamIndx, color = method)) + geom_boxplot()\n",
    "ggplot(data = esp, aes(x = method, y = foamIndx, color = method)) + geom_violin()"
   ]
  },
  {
   "cell_type": "markdown",
   "metadata": {},
   "source": [
    "The Hyper-Espresso Method clearly seems to have a higher mean than the Bar Machine or the I-Espresso System. There is not clear evidence that the mean of Bar Machine and the I-Espresso System are different, but the interquatile range of the I-Espresso system is significantly smaller than the other two methods so it is likely more constant"
   ]
  },
  {
   "cell_type": "markdown",
   "metadata": {},
   "source": [
    "\n",
    "#### (d) Conduct a one-way ANOVA on this data. What is the mean foam index of each method?"
   ]
  },
  {
   "cell_type": "code",
   "execution_count": 6,
   "metadata": {},
   "outputs": [
    {
     "data": {
      "text/html": [
       "<table>\n",
       "<thead><tr><th></th><th scope=col>Df</th><th scope=col>Sum Sq</th><th scope=col>Mean Sq</th><th scope=col>F value</th><th scope=col>Pr(&gt;F)</th></tr></thead>\n",
       "<tbody>\n",
       "\t<tr><th scope=row>method</th><td> 2          </td><td>4065.180    </td><td>2032.5900   </td><td>28.41261    </td><td>4.698636e-07</td></tr>\n",
       "\t<tr><th scope=row>Residuals</th><td>24          </td><td>1716.919    </td><td>  71.5383   </td><td>      NA    </td><td>          NA</td></tr>\n",
       "</tbody>\n",
       "</table>\n"
      ],
      "text/latex": [
       "\\begin{tabular}{r|lllll}\n",
       "  & Df & Sum Sq & Mean Sq & F value & Pr(>F)\\\\\n",
       "\\hline\n",
       "\tmethod &  2           & 4065.180     & 2032.5900    & 28.41261     & 4.698636e-07\\\\\n",
       "\tResiduals & 24           & 1716.919     &   71.5383    &       NA     &           NA\\\\\n",
       "\\end{tabular}\n"
      ],
      "text/markdown": [
       "\n",
       "| <!--/--> | Df | Sum Sq | Mean Sq | F value | Pr(>F) |\n",
       "|---|---|---|---|---|---|\n",
       "| method |  2           | 4065.180     | 2032.5900    | 28.41261     | 4.698636e-07 |\n",
       "| Residuals | 24           | 1716.919     |   71.5383    |       NA     |           NA |\n",
       "\n"
      ],
      "text/plain": [
       "          Df Sum Sq   Mean Sq   F value  Pr(>F)      \n",
       "method     2 4065.180 2032.5900 28.41261 4.698636e-07\n",
       "Residuals 24 1716.919   71.5383       NA           NA"
      ]
     },
     "metadata": {},
     "output_type": "display_data"
    },
    {
     "data": {
      "text/plain": [
       "\n",
       "Call:\n",
       "lm(formula = foamIndx ~ method, data = esp)\n",
       "\n",
       "Residuals:\n",
       "   Min     1Q Median     3Q    Max \n",
       "-14.62  -6.60   0.41   5.73  16.49 \n",
       "\n",
       "Coefficients:\n",
       "                            Estimate Std. Error t value Pr(>|t|)    \n",
       "(Intercept)                   32.400      2.819  11.492 3.04e-11 ***\n",
       "methodHyper-Espresso Method   28.900      3.987   7.248 1.73e-07 ***\n",
       "methodI-Espresso System        7.300      3.987   1.831   0.0796 .  \n",
       "---\n",
       "Signif. codes:  0 '***' 0.001 '**' 0.01 '*' 0.05 '.' 0.1 ' ' 1\n",
       "\n",
       "Residual standard error: 8.458 on 24 degrees of freedom\n",
       "Multiple R-squared:  0.7031,\tAdjusted R-squared:  0.6783 \n",
       "F-statistic: 28.41 on 2 and 24 DF,  p-value: 4.699e-07\n"
      ]
     },
     "metadata": {},
     "output_type": "display_data"
    }
   ],
   "source": [
    "lmod = lm(data = esp, foamIndx ~ method)\n",
    "anova(lmod)\n",
    "summary(lmod)"
   ]
  },
  {
   "cell_type": "markdown",
   "metadata": {},
   "source": [
    "From our summary of the linear model we can see that the mean for treatment 1, the intercept, is equal to 32.4, the mean for method 2 is 32.4 + 28.9 = 61.3 and the mean for method 3 is 32.4 + 7.3 = 39.7. The p-value of the ANOVA test is less than 0.05 so we can be 95% certain that at least two of the methods produce a different foam index on average. If we wanted to test each of the methods against each other we would run a Tukey test to compare all of the possible combinations."
   ]
  },
  {
   "cell_type": "markdown",
   "metadata": {},
   "source": [
    "#### (e)  Use statistical evidence to draw a conclusion about whether there are differences in mean foam index across methods."
   ]
  },
  {
   "cell_type": "markdown",
   "metadata": {},
   "source": [
    "We can look at the p-value for the F-test on our ANOVA and see that it is below 0.05 which means that we can say with 95% confidence that there is an effect on the mean foam index depending on the method of brewing used."
   ]
  },
  {
   "cell_type": "markdown",
   "metadata": {},
   "source": [
    "## Problem #2\n",
    "\n",
    "### (Notice that I am giving you the code for this problem. We will walk through it in class.)\n",
    "\n",
    "To demonstrate how interaction terms work in an ANCOVA model, let's generate some data. First, we consider the model \n",
    "\n",
    "$$Y_i = \\beta_0 + \\beta_1 X + \\beta_2 Z + \\beta_3XZ + \\varepsilon_i$$\n",
    "\n",
    "where $X$ is a continuous covariate, $Z$ is a dummy variable coding the levels of a two level factor, and $\\varepsilon_i \\overset{iid}{\\sim} N(0,\\sigma^2)$. We choose values for the parameters below (b0,...,b3). \n",
    "\n",
    "First, notice that $\\beta_3 = 0$. In this case, we can think about having two separate regression lines--one for $Y$ against $X$ when the unit is in group $Z = 0$ and another for $Y$ against $X$ when the unit is in group $Z = 1$. What do we notice about the slope of each of these lines?\n"
   ]
  },
  {
   "cell_type": "code",
   "execution_count": 8,
   "metadata": {
    "scrolled": true
   },
   "outputs": [
    {
     "data": {
      "text/html": [
       "<table>\n",
       "<thead><tr><th scope=col>x</th><th scope=col>z</th><th scope=col>y</th></tr></thead>\n",
       "<tbody>\n",
       "\t<tr><td>0.09159879</td><td>1         </td><td> 6.290179 </td></tr>\n",
       "\t<tr><td>1.96439135</td><td>1         </td><td>10.168612 </td></tr>\n",
       "\t<tr><td>0.57805656</td><td>1         </td><td> 7.200027 </td></tr>\n",
       "\t<tr><td>0.03370108</td><td>0         </td><td> 1.289331 </td></tr>\n",
       "\t<tr><td>1.82614045</td><td>0         </td><td> 4.470862 </td></tr>\n",
       "\t<tr><td>0.71220319</td><td>0         </td><td> 2.485743 </td></tr>\n",
       "</tbody>\n",
       "</table>\n"
      ],
      "text/latex": [
       "\\begin{tabular}{r|lll}\n",
       " x & z & y\\\\\n",
       "\\hline\n",
       "\t 0.09159879 & 1          &  6.290179 \\\\\n",
       "\t 1.96439135 & 1          & 10.168612 \\\\\n",
       "\t 0.57805656 & 1          &  7.200027 \\\\\n",
       "\t 0.03370108 & 0          &  1.289331 \\\\\n",
       "\t 1.82614045 & 0          &  4.470862 \\\\\n",
       "\t 0.71220319 & 0          &  2.485743 \\\\\n",
       "\\end{tabular}\n"
      ],
      "text/markdown": [
       "\n",
       "| x | z | y |\n",
       "|---|---|---|\n",
       "| 0.09159879 | 1          |  6.290179  |\n",
       "| 1.96439135 | 1          | 10.168612  |\n",
       "| 0.57805656 | 1          |  7.200027  |\n",
       "| 0.03370108 | 0          |  1.289331  |\n",
       "| 1.82614045 | 0          |  4.470862  |\n",
       "| 0.71220319 | 0          |  2.485743  |\n",
       "\n"
      ],
      "text/plain": [
       "  x          z y        \n",
       "1 0.09159879 1  6.290179\n",
       "2 1.96439135 1 10.168612\n",
       "3 0.57805656 1  7.200027\n",
       "4 0.03370108 0  1.289331\n",
       "5 1.82614045 0  4.470862\n",
       "6 0.71220319 0  2.485743"
      ]
     },
     "metadata": {},
     "output_type": "display_data"
    },
    {
     "data": {
      "image/png": "[encoded data removed]",
      "text/plain": [
       "plot without title"
      ]
     },
     "metadata": {},
     "output_type": "display_data"
    }
   ],
   "source": [
    "rm(list = ls())\n",
    "set.seed(99)\n",
    "\n",
    "#simulate data\n",
    "n = 150\n",
    "b0 = 1; b1 = 2; b2 = 5; b3 = 0; eps = rnorm(n, 0, 0.5);\n",
    "x = runif(n,0,2); z = runif(n,-2,2);\n",
    "z = ifelse(z > 0,1,0); \n",
    "y = b0 + b1*x + b2*z - b3*(x*z) + eps\n",
    "df = data.frame(x = x,z = as.factor(z),y = y)\n",
    "head(df)\n",
    "\n",
    "#plot separate regression lines\n",
    "with(df, plot(x,y, pch = 3, col = c(\"#CFB87C\",\"#565A5C\")[z]))\n",
    "abline(coef(lm(y[z == 0] ~ x[z == 0], data = df)), col = \"#CFB87C\")\n",
    "abline(coef(lm(y[z == 1] ~ x[z == 1], data = df)), col = \"#565A5C\")"
   ]
  },
  {
   "cell_type": "markdown",
   "metadata": {},
   "source": [
    "We notice that the slopes are equal. This means that the interaction term is 0, as defined above. This means that our response variable, Y, has a constant response to our covariate, x, regardless of which level our observational unit falls into with respect to our discrete predictor, Z."
   ]
  },
  {
   "cell_type": "markdown",
   "metadata": {},
   "source": [
    "#### Now, let's add the interaction term (let $\\beta_3 = 3$). What happens to the slopes of each line?"
   ]
  },
  {
   "cell_type": "code",
   "execution_count": 10,
   "metadata": {
    "scrolled": true
   },
   "outputs": [
    {
     "data": {
      "text/html": [
       "<table>\n",
       "<thead><tr><th scope=col>x</th><th scope=col>z</th><th scope=col>y</th></tr></thead>\n",
       "<tbody>\n",
       "\t<tr><td>0.09159879</td><td>1         </td><td> 6.564975 </td></tr>\n",
       "\t<tr><td>1.96439135</td><td>1         </td><td>16.061786 </td></tr>\n",
       "\t<tr><td>0.57805656</td><td>1         </td><td> 8.934197 </td></tr>\n",
       "\t<tr><td>0.03370108</td><td>0         </td><td> 1.289331 </td></tr>\n",
       "\t<tr><td>1.82614045</td><td>0         </td><td> 4.470862 </td></tr>\n",
       "\t<tr><td>0.71220319</td><td>0         </td><td> 2.485743 </td></tr>\n",
       "</tbody>\n",
       "</table>\n"
      ],
      "text/latex": [
       "\\begin{tabular}{r|lll}\n",
       " x & z & y\\\\\n",
       "\\hline\n",
       "\t 0.09159879 & 1          &  6.564975 \\\\\n",
       "\t 1.96439135 & 1          & 16.061786 \\\\\n",
       "\t 0.57805656 & 1          &  8.934197 \\\\\n",
       "\t 0.03370108 & 0          &  1.289331 \\\\\n",
       "\t 1.82614045 & 0          &  4.470862 \\\\\n",
       "\t 0.71220319 & 0          &  2.485743 \\\\\n",
       "\\end{tabular}\n"
      ],
      "text/markdown": [
       "\n",
       "| x | z | y |\n",
       "|---|---|---|\n",
       "| 0.09159879 | 1          |  6.564975  |\n",
       "| 1.96439135 | 1          | 16.061786  |\n",
       "| 0.57805656 | 1          |  8.934197  |\n",
       "| 0.03370108 | 0          |  1.289331  |\n",
       "| 1.82614045 | 0          |  4.470862  |\n",
       "| 0.71220319 | 0          |  2.485743  |\n",
       "\n"
      ],
      "text/plain": [
       "  x          z y        \n",
       "1 0.09159879 1  6.564975\n",
       "2 1.96439135 1 16.061786\n",
       "3 0.57805656 1  8.934197\n",
       "4 0.03370108 0  1.289331\n",
       "5 1.82614045 0  4.470862\n",
       "6 0.71220319 0  2.485743"
      ]
     },
     "metadata": {},
     "output_type": "display_data"
    },
    {
     "data": {
      "text/plain": [
       "\n",
       "Call:\n",
       "lm(formula = y ~ x + z, data = df)\n",
       "\n",
       "Residuals:\n",
       "    Min      1Q  Median      3Q     Max \n",
       "-2.2228 -0.9044  0.1285  0.8249  2.0822 \n",
       "\n",
       "Coefficients:\n",
       "            Estimate Std. Error t value Pr(>|t|)    \n",
       "(Intercept)  -0.2856     0.1748  -1.634    0.104    \n",
       "x             3.4573     0.1429  24.195   <2e-16 ***\n",
       "z1            7.8208     0.1754  44.600   <2e-16 ***\n",
       "---\n",
       "Signif. codes:  0 '***' 0.001 '**' 0.01 '*' 0.05 '.' 0.1 ' ' 1\n",
       "\n",
       "Residual standard error: 1.062 on 147 degrees of freedom\n",
       "Multiple R-squared:  0.9526,\tAdjusted R-squared:  0.952 \n",
       "F-statistic:  1478 on 2 and 147 DF,  p-value: < 2.2e-16\n"
      ]
     },
     "metadata": {},
     "output_type": "display_data"
    },
    {
     "data": {
      "text/plain": [
       "\n",
       "Call:\n",
       "lm(formula = y[z == 0] ~ x[z == 0], data = df)\n",
       "\n",
       "Residuals:\n",
       "     Min       1Q   Median       3Q      Max \n",
       "-0.92808 -0.25958  0.03177  0.29391  0.96003 \n",
       "\n",
       "Coefficients:\n",
       "            Estimate Std. Error t value Pr(>|t|)    \n",
       "(Intercept)  1.07854    0.08448   12.77   <2e-16 ***\n",
       "x[z == 0]    1.87232    0.08017   23.35   <2e-16 ***\n",
       "---\n",
       "Signif. codes:  0 '***' 0.001 '**' 0.01 '*' 0.05 '.' 0.1 ' ' 1\n",
       "\n",
       "Residual standard error: 0.4164 on 71 degrees of freedom\n",
       "Multiple R-squared:  0.8848,\tAdjusted R-squared:  0.8832 \n",
       "F-statistic: 545.4 on 1 and 71 DF,  p-value: < 2.2e-16\n"
      ]
     },
     "metadata": {},
     "output_type": "display_data"
    },
    {
     "data": {
      "text/plain": [
       "\n",
       "Call:\n",
       "lm(formula = y[z == 1] ~ x[z == 1], data = df)\n",
       "\n",
       "Residuals:\n",
       "     Min       1Q   Median       3Q      Max \n",
       "-1.43962 -0.31643  0.09974  0.33339  1.01539 \n",
       "\n",
       "Coefficients:\n",
       "            Estimate Std. Error t value Pr(>|t|)    \n",
       "(Intercept)  5.95902    0.11969   49.79   <2e-16 ***\n",
       "x[z == 1]    4.97128    0.09937   50.03   <2e-16 ***\n",
       "---\n",
       "Signif. codes:  0 '***' 0.001 '**' 0.01 '*' 0.05 '.' 0.1 ' ' 1\n",
       "\n",
       "Residual standard error: 0.5281 on 75 degrees of freedom\n",
       "Multiple R-squared:  0.9709,\tAdjusted R-squared:  0.9705 \n",
       "F-statistic:  2503 on 1 and 75 DF,  p-value: < 2.2e-16\n"
      ]
     },
     "metadata": {},
     "output_type": "display_data"
    },
    {
     "data": {
      "text/plain": [
       "\n",
       "Call:\n",
       "lm(formula = y ~ x + z + x * z, data = df)\n",
       "\n",
       "Residuals:\n",
       "     Min       1Q   Median       3Q      Max \n",
       "-1.43962 -0.28033  0.04971  0.32841  1.01539 \n",
       "\n",
       "Coefficients:\n",
       "            Estimate Std. Error t value Pr(>|t|)    \n",
       "(Intercept)  1.07854    0.09678   11.14   <2e-16 ***\n",
       "x            1.87232    0.09185   20.39   <2e-16 ***\n",
       "z1           4.88048    0.14511   33.63   <2e-16 ***\n",
       "x:z1         3.09895    0.12843   24.13   <2e-16 ***\n",
       "---\n",
       "Signif. codes:  0 '***' 0.001 '**' 0.01 '*' 0.05 '.' 0.1 ' ' 1\n",
       "\n",
       "Residual standard error: 0.4771 on 146 degrees of freedom\n",
       "Multiple R-squared:  0.9905,\tAdjusted R-squared:  0.9903 \n",
       "F-statistic:  5075 on 3 and 146 DF,  p-value: < 2.2e-16\n"
      ]
     },
     "metadata": {},
     "output_type": "display_data"
    },
    {
     "data": {
      "image/png": "[encoded data removed]",
      "text/plain": [
       "plot without title"
      ]
     },
     "metadata": {},
     "output_type": "display_data"
    }
   ],
   "source": [
    "#simulate data\n",
    "set.seed(99)\n",
    "n = 150\n",
    "b0 = 1; b1 = 2; b2 = 5; b3 = 3; eps = rnorm(n, 0, 0.5); \n",
    "y = b0 + b1*x + b2*z + b3*(x*z) + eps\n",
    "df = data.frame(x = x,z = as.factor(z),y = y)\n",
    "head(df)\n",
    "\n",
    "lmod = lm(y ~ x + z, data = df)\n",
    "lmodz0 = lm(y[z == 0] ~ x[z == 0], data = df)\n",
    "lmodz1 = lm(y[z == 1] ~ x[z == 1], data = df)\n",
    "summary(lmod)\n",
    "summary(lmodz0)\n",
    "summary(lmodz1)\n",
    "\n",
    "lmodInt = lm(y ~ x + z + x*z, data = df)\n",
    "summary(lmodInt)\n",
    "\n",
    "#plot separate regression lines\n",
    "with(df, plot(x,y, pch = 3, col = c(\"#CFB87C\",\"#565A5C\")[z]))\n",
    "abline(coef(lm(y[z == 0] ~ x[z == 0], data = df)), col = \"#CFB87C\")\n",
    "abline(coef(lm(y[z == 1] ~ x[z == 1], data = df)), col = \"#565A5C\")"
   ]
  },
  {
   "cell_type": "markdown",
   "metadata": {},
   "source": [
    "We can see that the slopes of the lines are different from each other, which means that the mean response of Y with respect to covariate X, depends on the level of the discrete predictor Z. Thus the interaction term for XZ is not 0."
   ]
  },
  {
   "cell_type": "markdown",
   "metadata": {},
   "source": [
    "## Problem #3\n",
    "\n",
    "Load the mtcars dataset. The goal if this question will be to try to explain the variability in miles per gallon (mpg) using transmission type (am), while adjusting for horsepower (hp).\n",
    "\n",
    "#### (a) Rename the levels of am from 0 and 1 to \"Automatic\" and \"Manual\" (one option for this is to use the revalue() function in the plyr package). Then, create a boxplot (or violin plot) of mpg against am. What do you notice? What is the difference in the mean of mpg for cars in the Automatic group vs the Manual group?"
   ]
  },
  {
   "cell_type": "code",
   "execution_count": 26,
   "metadata": {},
   "outputs": [],
   "source": [
    "library(tidyverse)\n",
    "library(plyr)\n",
    "library(ggplot2)\n",
    "data(mtcars)"
   ]
  },
  {
   "cell_type": "code",
   "execution_count": 27,
   "metadata": {},
   "outputs": [
    {
     "data": {
      "text/html": [
       "<table>\n",
       "<thead><tr><th></th><th scope=col>mpg</th><th scope=col>cyl</th><th scope=col>disp</th><th scope=col>hp</th><th scope=col>drat</th><th scope=col>wt</th><th scope=col>qsec</th><th scope=col>vs</th><th scope=col>am</th><th scope=col>gear</th><th scope=col>carb</th></tr></thead>\n",
       "<tbody>\n",
       "\t<tr><th scope=row>Mazda RX4</th><td>21.0     </td><td>6        </td><td>160      </td><td>110      </td><td>3.90     </td><td>2.620    </td><td>16.46    </td><td>0        </td><td>Automatic</td><td>4        </td><td>4        </td></tr>\n",
       "\t<tr><th scope=row>Mazda RX4 Wag</th><td>21.0     </td><td>6        </td><td>160      </td><td>110      </td><td>3.90     </td><td>2.875    </td><td>17.02    </td><td>0        </td><td>Automatic</td><td>4        </td><td>4        </td></tr>\n",
       "\t<tr><th scope=row>Datsun 710</th><td>22.8     </td><td>4        </td><td>108      </td><td> 93      </td><td>3.85     </td><td>2.320    </td><td>18.61    </td><td>1        </td><td>Automatic</td><td>4        </td><td>1        </td></tr>\n",
       "\t<tr><th scope=row>Hornet 4 Drive</th><td>21.4     </td><td>6        </td><td>258      </td><td>110      </td><td>3.08     </td><td>3.215    </td><td>19.44    </td><td>1        </td><td>Manual   </td><td>3        </td><td>1        </td></tr>\n",
       "\t<tr><th scope=row>Hornet Sportabout</th><td>18.7     </td><td>8        </td><td>360      </td><td>175      </td><td>3.15     </td><td>3.440    </td><td>17.02    </td><td>0        </td><td>Manual   </td><td>3        </td><td>2        </td></tr>\n",
       "\t<tr><th scope=row>Valiant</th><td>18.1     </td><td>6        </td><td>225      </td><td>105      </td><td>2.76     </td><td>3.460    </td><td>20.22    </td><td>1        </td><td>Manual   </td><td>3        </td><td>1        </td></tr>\n",
       "</tbody>\n",
       "</table>\n"
      ],
      "text/latex": [
       "\\begin{tabular}{r|lllllllllll}\n",
       "  & mpg & cyl & disp & hp & drat & wt & qsec & vs & am & gear & carb\\\\\n",
       "\\hline\n",
       "\tMazda RX4 & 21.0      & 6         & 160       & 110       & 3.90      & 2.620     & 16.46     & 0         & Automatic & 4         & 4        \\\\\n",
       "\tMazda RX4 Wag & 21.0      & 6         & 160       & 110       & 3.90      & 2.875     & 17.02     & 0         & Automatic & 4         & 4        \\\\\n",
       "\tDatsun 710 & 22.8      & 4         & 108       &  93       & 3.85      & 2.320     & 18.61     & 1         & Automatic & 4         & 1        \\\\\n",
       "\tHornet 4 Drive & 21.4      & 6         & 258       & 110       & 3.08      & 3.215     & 19.44     & 1         & Manual    & 3         & 1        \\\\\n",
       "\tHornet Sportabout & 18.7      & 8         & 360       & 175       & 3.15      & 3.440     & 17.02     & 0         & Manual    & 3         & 2        \\\\\n",
       "\tValiant & 18.1      & 6         & 225       & 105       & 2.76      & 3.460     & 20.22     & 1         & Manual    & 3         & 1        \\\\\n",
       "\\end{tabular}\n"
      ],
      "text/markdown": [
       "\n",
       "| <!--/--> | mpg | cyl | disp | hp | drat | wt | qsec | vs | am | gear | carb |\n",
       "|---|---|---|---|---|---|---|---|---|---|---|---|\n",
       "| Mazda RX4 | 21.0      | 6         | 160       | 110       | 3.90      | 2.620     | 16.46     | 0         | Automatic | 4         | 4         |\n",
       "| Mazda RX4 Wag | 21.0      | 6         | 160       | 110       | 3.90      | 2.875     | 17.02     | 0         | Automatic | 4         | 4         |\n",
       "| Datsun 710 | 22.8      | 4         | 108       |  93       | 3.85      | 2.320     | 18.61     | 1         | Automatic | 4         | 1         |\n",
       "| Hornet 4 Drive | 21.4      | 6         | 258       | 110       | 3.08      | 3.215     | 19.44     | 1         | Manual    | 3         | 1         |\n",
       "| Hornet Sportabout | 18.7      | 8         | 360       | 175       | 3.15      | 3.440     | 17.02     | 0         | Manual    | 3         | 2         |\n",
       "| Valiant | 18.1      | 6         | 225       | 105       | 2.76      | 3.460     | 20.22     | 1         | Manual    | 3         | 1         |\n",
       "\n"
      ],
      "text/plain": [
       "                  mpg  cyl disp hp  drat wt    qsec  vs am        gear carb\n",
       "Mazda RX4         21.0 6   160  110 3.90 2.620 16.46 0  Automatic 4    4   \n",
       "Mazda RX4 Wag     21.0 6   160  110 3.90 2.875 17.02 0  Automatic 4    4   \n",
       "Datsun 710        22.8 4   108   93 3.85 2.320 18.61 1  Automatic 4    1   \n",
       "Hornet 4 Drive    21.4 6   258  110 3.08 3.215 19.44 1  Manual    3    1   \n",
       "Hornet Sportabout 18.7 8   360  175 3.15 3.440 17.02 0  Manual    3    2   \n",
       "Valiant           18.1 6   225  105 2.76 3.460 20.22 1  Manual    3    1   "
      ]
     },
     "metadata": {},
     "output_type": "display_data"
    },
    {
     "data": {
      "text/html": [
       "<table>\n",
       "<thead><tr><th scope=col>Group.1</th><th scope=col>x</th></tr></thead>\n",
       "<tbody>\n",
       "\t<tr><td>Automatic</td><td>24.39231 </td></tr>\n",
       "\t<tr><td>Manual   </td><td>17.14737 </td></tr>\n",
       "</tbody>\n",
       "</table>\n"
      ],
      "text/latex": [
       "\\begin{tabular}{r|ll}\n",
       " Group.1 & x\\\\\n",
       "\\hline\n",
       "\t Automatic & 24.39231 \\\\\n",
       "\t Manual    & 17.14737 \\\\\n",
       "\\end{tabular}\n"
      ],
      "text/markdown": [
       "\n",
       "| Group.1 | x |\n",
       "|---|---|\n",
       "| Automatic | 24.39231  |\n",
       "| Manual    | 17.14737  |\n",
       "\n"
      ],
      "text/plain": [
       "  Group.1   x       \n",
       "1 Automatic 24.39231\n",
       "2 Manual    17.14737"
      ]
     },
     "metadata": {},
     "output_type": "display_data"
    }
   ],
   "source": [
    "mtcars$am <- mapvalues(mtcars$am, c(1,0), c(\"Automatic\", \"Manual\"))\n",
    "head(mtcars)\n",
    "aggregate(mtcars[,1], list(mtcars$am), mean)"
   ]
  },
  {
   "cell_type": "code",
   "execution_count": 28,
   "metadata": {
    "scrolled": true
   },
   "outputs": [
    {
     "data": {
      "text/html": [
       "<table>\n",
       "<thead><tr><th scope=col>Group.1</th><th scope=col>x</th></tr></thead>\n",
       "<tbody>\n",
       "\t<tr><td>Automatic</td><td>24.39231 </td></tr>\n",
       "\t<tr><td>Manual   </td><td>17.14737 </td></tr>\n",
       "</tbody>\n",
       "</table>\n"
      ],
      "text/latex": [
       "\\begin{tabular}{r|ll}\n",
       " Group.1 & x\\\\\n",
       "\\hline\n",
       "\t Automatic & 24.39231 \\\\\n",
       "\t Manual    & 17.14737 \\\\\n",
       "\\end{tabular}\n"
      ],
      "text/markdown": [
       "\n",
       "| Group.1 | x |\n",
       "|---|---|\n",
       "| Automatic | 24.39231  |\n",
       "| Manual    | 17.14737  |\n",
       "\n"
      ],
      "text/plain": [
       "  Group.1   x       \n",
       "1 Automatic 24.39231\n",
       "2 Manual    17.14737"
      ]
     },
     "metadata": {},
     "output_type": "display_data"
    },
    {
     "data": {
      "image/png": "[encoded data removed]",
      "text/plain": [
       "plot without title"
      ]
     },
     "metadata": {},
     "output_type": "display_data"
    }
   ],
   "source": [
    "aggregate(mtcars[,1], list(mtcars$am), mean)\n",
    "ggplot(data = mtcars, aes(x = am, y = mpg, color = am)) + geom_boxplot()"
   ]
  },
  {
   "cell_type": "markdown",
   "metadata": {},
   "source": [
    "The automatics seem to have a higher average mpg, but the manuals have a smaller interquartile range. The difference in the means is 24.39-17.15 = 7.24 mpg"
   ]
  },
  {
   "cell_type": "markdown",
   "metadata": {},
   "source": [
    "#### (b) Construct three models: \n",
    "\n",
    "1. An ANOVA model that checks for differences in mean mpg across different transmission types. \n",
    "2. An ANCOVA model that checks for differences in mean mpg across different transmission types, adjusting for horsepower.\n",
    "3. An ANCOVA model that checks for differences in mean mpg across different transmission types, adjusting for horsepower and for interaction effects between horsepower and transmission type.\n",
    "\n",
    "#### Is the interaction term significant?"
   ]
  },
  {
   "cell_type": "code",
   "execution_count": 29,
   "metadata": {},
   "outputs": [
    {
     "data": {
      "text/plain": [
       "            Df Sum Sq Mean Sq F value   Pr(>F)    \n",
       "am           1  405.2   405.2   16.86 0.000285 ***\n",
       "Residuals   30  720.9    24.0                     \n",
       "---\n",
       "Signif. codes:  0 '***' 0.001 '**' 0.01 '*' 0.05 '.' 0.1 ' ' 1"
      ]
     },
     "metadata": {},
     "output_type": "display_data"
    },
    {
     "data": {
      "text/plain": [
       "            Df Sum Sq Mean Sq F value   Pr(>F)    \n",
       "am           1  405.2   405.2   47.87 1.33e-07 ***\n",
       "hp           1  475.5   475.5   56.18 2.92e-08 ***\n",
       "Residuals   29  245.4     8.5                     \n",
       "---\n",
       "Signif. codes:  0 '***' 0.001 '**' 0.01 '*' 0.05 '.' 0.1 ' ' 1"
      ]
     },
     "metadata": {},
     "output_type": "display_data"
    },
    {
     "data": {
      "text/plain": [
       "            Df Sum Sq Mean Sq F value   Pr(>F)    \n",
       "am           1  405.2   405.2  46.221 2.20e-07 ***\n",
       "hp           1  475.5   475.5  54.242 5.09e-08 ***\n",
       "am:hp        1    0.0     0.0   0.001    0.981    \n",
       "Residuals   28  245.4     8.8                     \n",
       "---\n",
       "Signif. codes:  0 '***' 0.001 '**' 0.01 '*' 0.05 '.' 0.1 ' ' 1"
      ]
     },
     "metadata": {},
     "output_type": "display_data"
    },
    {
     "data": {
      "text/html": [
       "<table>\n",
       "<thead><tr><th scope=col>Res.Df</th><th scope=col>RSS</th><th scope=col>Df</th><th scope=col>Sum of Sq</th><th scope=col>F</th><th scope=col>Pr(&gt;F)</th></tr></thead>\n",
       "<tbody>\n",
       "\t<tr><td>29          </td><td>245.4393    </td><td>NA          </td><td>         NA </td><td>          NA</td><td>      NA    </td></tr>\n",
       "\t<tr><td>28          </td><td>245.4340    </td><td> 1          </td><td>0.005251456 </td><td>0.0005991051</td><td>0.980646    </td></tr>\n",
       "</tbody>\n",
       "</table>\n"
      ],
      "text/latex": [
       "\\begin{tabular}{r|llllll}\n",
       " Res.Df & RSS & Df & Sum of Sq & F & Pr(>F)\\\\\n",
       "\\hline\n",
       "\t 29           & 245.4393     & NA           &          NA  &           NA &       NA    \\\\\n",
       "\t 28           & 245.4340     &  1           & 0.005251456  & 0.0005991051 & 0.980646    \\\\\n",
       "\\end{tabular}\n"
      ],
      "text/markdown": [
       "\n",
       "| Res.Df | RSS | Df | Sum of Sq | F | Pr(>F) |\n",
       "|---|---|---|---|---|---|\n",
       "| 29           | 245.4393     | NA           |          NA  |           NA |       NA     |\n",
       "| 28           | 245.4340     |  1           | 0.005251456  | 0.0005991051 | 0.980646     |\n",
       "\n"
      ],
      "text/plain": [
       "  Res.Df RSS      Df Sum of Sq   F            Pr(>F)  \n",
       "1 29     245.4393 NA          NA           NA       NA\n",
       "2 28     245.4340  1 0.005251456 0.0005991051 0.980646"
      ]
     },
     "metadata": {},
     "output_type": "display_data"
    }
   ],
   "source": [
    "model1 = aov(data = mtcars, mpg ~ am)\n",
    "model2 = aov(data = mtcars, mpg ~ am + hp)\n",
    "model3 = aov(data = mtcars, mpg ~ am * hp)\n",
    "summary(model1)\n",
    "summary(model2)\n",
    "summary(model3)\n",
    "anova(model2, model3)"
   ]
  },
  {
   "cell_type": "markdown",
   "metadata": {},
   "source": [
    "The interaction term is the only term in any of the models with a p-value greater than 0.05 so it is the only one that is not significant, and the anova between model2 without the interaction parameter, and model3 with it has a p-value greater than 0.05 so we conclude that the reduced model is sufficent, and that the interaction term is likely 0."
   ]
  },
  {
   "cell_type": "markdown",
   "metadata": {},
   "source": [
    "#### (c) Construct a plot of mpg against horsepower, and color points based in transmission type. Then, overlay the regression lines with the interaction term, and the lines without. How are these lines consistent with your answer in (b)?"
   ]
  },
  {
   "cell_type": "code",
   "execution_count": 44,
   "metadata": {
    "scrolled": true
   },
   "outputs": [
    {
     "name": "stderr",
     "output_type": "stream",
     "text": [
      "Warning message:\n",
      "\"Computation failed in `stat_smooth()`:\n",
      "object 'hp' not found\""
     ]
    },
    {
     "data": {
      "image/png": "[encoded data removed]",
      "text/plain": [
       "plot without title"
      ]
     },
     "metadata": {},
     "output_type": "display_data"
    }
   ],
   "source": [
    "#come back to this in office hours tomorrow. As of now can't get both the data and lines to plot at the same time with either plot or ggplot\n",
    "\n",
    "p = ggplot(data = mtcars, aes(x = hp, y = mpg, color = am)) + geom_point() \n",
    "p + geom_smooth(data = mtcars, method = 'lm', aes(group = am), formula = mpg~hp)"
   ]
  },
  {
   "cell_type": "code",
   "execution_count": null,
   "metadata": {},
   "outputs": [],
   "source": [
    "with(mtcars, plot(hp,mpg, pch = 3, col = c(\"#CFB87C\",\"#565A5C\")[am]))+\n",
    "abline(coef(lm(mpg[am == 'Manual'] ~ hp[am == 'Manual'], data = mtcars)), col = \"#CFB87C\")+\n",
    "abline(coef(lm(mpg[am == 'Automatic'] ~ hp[am == 'Automatic'], data = mtcars)), col = \"#565A5C\")"
   ]
  },
  {
   "cell_type": "markdown",
   "metadata": {},
   "source": [
    "## Problem #4\n",
    "\n",
    "Impact of Launderings on Physsical Properties,\" International Journal\n",
    "of Clothing Science and Technology, Vol. 18, 1/2, pp. 43-52.\n",
    "\n",
    "Description: Effects of Laundering Cycles and denim treatment\n",
    "on edge abrasion of denim jeans. Data simulated to match means/SDs\n",
    "\n",
    "Variables/Columns:\n",
    "1. Laundry Cycles:  1= Control (Zero Launderings), 2=5 Launderings, 3=25  \n",
    "2. Denim Treatment: 1=Pre-washed, 2=Stone-Washed, 3=Enzyme Washed \n",
    "3. Edge abrasion Score: Lower scores mean higher damage  \n",
    "\n",
    "#### (a) Read in the denim data. Convert the cycle and treatment variables into factors, and recode the factors as follows:\n",
    "\n",
    "1. cycle: \"1\" = \"Control\", \"2\" = \"5 Launderings\", \"3\" = \"25 Launderings\"\n",
    "2. treatment: \"1\" = \"Pre-Washed\", \"2\" = \"Stone-Washed\", \"3\" = \"Enzyme Washed\""
   ]
  },
  {
   "cell_type": "code",
   "execution_count": 18,
   "metadata": {},
   "outputs": [
    {
     "data": {
      "text/html": [
       "<table>\n",
       "<thead><tr><th scope=col>cycle</th><th scope=col>treatment</th><th scope=col>score</th></tr></thead>\n",
       "<tbody>\n",
       "\t<tr><td>Control   </td><td>Pre-Washed</td><td>3.2218    </td></tr>\n",
       "\t<tr><td>Control   </td><td>Pre-Washed</td><td>3.3547    </td></tr>\n",
       "\t<tr><td>Control   </td><td>Pre-Washed</td><td>3.1334    </td></tr>\n",
       "\t<tr><td>Control   </td><td>Pre-Washed</td><td>2.6289    </td></tr>\n",
       "\t<tr><td>Control   </td><td>Pre-Washed</td><td>3.8816    </td></tr>\n",
       "\t<tr><td>Control   </td><td>Pre-Washed</td><td>3.4383    </td></tr>\n",
       "</tbody>\n",
       "</table>\n"
      ],
      "text/latex": [
       "\\begin{tabular}{r|lll}\n",
       " cycle & treatment & score\\\\\n",
       "\\hline\n",
       "\t Control    & Pre-Washed & 3.2218    \\\\\n",
       "\t Control    & Pre-Washed & 3.3547    \\\\\n",
       "\t Control    & Pre-Washed & 3.1334    \\\\\n",
       "\t Control    & Pre-Washed & 2.6289    \\\\\n",
       "\t Control    & Pre-Washed & 3.8816    \\\\\n",
       "\t Control    & Pre-Washed & 3.4383    \\\\\n",
       "\\end{tabular}\n"
      ],
      "text/markdown": [
       "\n",
       "| cycle | treatment | score |\n",
       "|---|---|---|\n",
       "| Control    | Pre-Washed | 3.2218     |\n",
       "| Control    | Pre-Washed | 3.3547     |\n",
       "| Control    | Pre-Washed | 3.1334     |\n",
       "| Control    | Pre-Washed | 2.6289     |\n",
       "| Control    | Pre-Washed | 3.8816     |\n",
       "| Control    | Pre-Washed | 3.4383     |\n",
       "\n"
      ],
      "text/plain": [
       "  cycle   treatment  score \n",
       "1 Control Pre-Washed 3.2218\n",
       "2 Control Pre-Washed 3.3547\n",
       "3 Control Pre-Washed 3.1334\n",
       "4 Control Pre-Washed 2.6289\n",
       "5 Control Pre-Washed 3.8816\n",
       "6 Control Pre-Washed 3.4383"
      ]
     },
     "metadata": {},
     "output_type": "display_data"
    }
   ],
   "source": [
    "denim = read.table(\"https://www.colorado.edu/amath/sites/default/files/attached-files/denim.txt\", header = TRUE, sep = \"\")\n",
    "denim$cycle = mapvalues(denim$cycle, c(1,2,3), c('Control', '5 Launderings', '25 Launderings'))\n",
    "denim$treatment = mapvalues(denim$treatment, c(1,2,3), c('Pre-Washed', 'Stone-Washed', 'Enzyme Washed'))\n",
    "head(denim)"
   ]
  },
  {
   "cell_type": "markdown",
   "metadata": {},
   "source": [
    "#### (a) Use the code below to construct interaction plots for cycle and treatment. Comment on these plots."
   ]
  },
  {
   "cell_type": "code",
   "execution_count": 19,
   "metadata": {},
   "outputs": [
    {
     "data": {
      "image/png": "[encoded data removed]",
      "text/plain": [
       "plot without title"
      ]
     },
     "metadata": {},
     "output_type": "display_data"
    }
   ],
   "source": [
    "library(tidyverse)\n",
    "library(plyr)\n",
    "\n",
    "denim %>% \n",
    "  ggplot() +\n",
    "  aes(x = cycle, color = treatment, group = treatment, y = score) +\n",
    "  stat_summary(fun.y = mean, geom = \"point\") +\n",
    "  stat_summary(fun.y = mean, geom = \"line\")"
   ]
  },
  {
   "cell_type": "code",
   "execution_count": 21,
   "metadata": {},
   "outputs": [
    {
     "data": {
      "image/png": "[encoded data removed]",
      "text/plain": [
       "plot without title"
      ]
     },
     "metadata": {},
     "output_type": "display_data"
    }
   ],
   "source": [
    "denim %>% \n",
    "  ggplot() +\n",
    "  aes(x = treatment, color = cycle, group = cycle, y = score) +\n",
    "  stat_summary(fun.y = mean, geom = \"point\") +\n",
    "  stat_summary(fun.y = mean, geom = \"line\")"
   ]
  },
  {
   "cell_type": "markdown",
   "metadata": {},
   "source": [
    "We can see that the slope of these different lines is the same in all instance, except for difference between 25 and 5 launderings for Pre-Washed jeans. This means there may be a significant interaction term between launderings and wash type"
   ]
  },
  {
   "cell_type": "markdown",
   "metadata": {},
   "source": [
    "#### (b) Construct a two-way ANOVA model with the factors cycle and treatment. Do not include an interaction term. Assuming that this model is correct, write down the mean edge abrasion score for:\n",
    "\n",
    "1. Pre-Washed jeans after zero launderings.\n",
    "2. Stone-Washed jeans after 25 launderings.\n",
    "3. Enzyme Washed jeans after zero launderings."
   ]
  },
  {
   "cell_type": "code",
   "execution_count": 22,
   "metadata": {},
   "outputs": [
    {
     "data": {
      "text/plain": [
       "\n",
       "Call:\n",
       "lm(formula = score ~ treatment + cycle, data = denim)\n",
       "\n",
       "Residuals:\n",
       "     Min       1Q   Median       3Q      Max \n",
       "-1.38620 -0.24039  0.03869  0.23688  1.06717 \n",
       "\n",
       "Coefficients:\n",
       "                      Estimate Std. Error t value Pr(>|t|)    \n",
       "(Intercept)            2.19266    0.09985  21.959  < 2e-16 ***\n",
       "treatmentPre-Washed    0.43334    0.10938   3.962 0.000154 ***\n",
       "treatmentStone-Washed -0.51133    0.10938  -4.675 1.10e-05 ***\n",
       "cycle5 Launderings     0.16667    0.10938   1.524 0.131298    \n",
       "cycleControl           0.52235    0.10938   4.775 7.41e-06 ***\n",
       "---\n",
       "Signif. codes:  0 '***' 0.001 '**' 0.01 '*' 0.05 '.' 0.1 ' ' 1\n",
       "\n",
       "Residual standard error: 0.4236 on 85 degrees of freedom\n",
       "Multiple R-squared:  0.5369,\tAdjusted R-squared:  0.5151 \n",
       "F-statistic: 24.64 on 4 and 85 DF,  p-value: 1.47e-13\n"
      ]
     },
     "metadata": {},
     "output_type": "display_data"
    }
   ],
   "source": [
    "lmodNoInt = lm(data = denim, score ~ treatment + cycle)\n",
    "summary(lmodNoInt)"
   ]
  },
  {
   "cell_type": "code",
   "execution_count": 23,
   "metadata": {},
   "outputs": [
    {
     "name": "stdout",
     "output_type": "stream",
     "text": [
      "Mean edge score after: Pre-Wash with 0 launderings: 3.14835 Stone-wash with 25 launderings: 1.68133 Enzyme-wash after 25 launderings: 2.71501"
     ]
    }
   ],
   "source": [
    "ans1 = 2.19266 + 0.43334 + 0.52235\n",
    "ans2 = 2.19266 - 0.51133\n",
    "ans3 = 2.19266 + 0.52235\n",
    "cat(\"Mean edge score after: Pre-Wash with 0 launderings:\" ,ans1, \"Stone-wash with 25 launderings:\" ,ans2, \"Enzyme-wash after 25 launderings:\" ,ans3)"
   ]
  },
  {
   "cell_type": "markdown",
   "metadata": {},
   "source": [
    "#### (c) Now fit the two-way ANOVA model from part (b), but with an interaction term. Conduct a test for whether the interaction is statistically significant. Clearly state the reasoning and conclusion of your test."
   ]
  },
  {
   "cell_type": "code",
   "execution_count": 24,
   "metadata": {},
   "outputs": [
    {
     "data": {
      "text/plain": [
       "\n",
       "Call:\n",
       "lm(formula = score ~ treatment + cycle + treatment:cycle, data = denim)\n",
       "\n",
       "Residuals:\n",
       "     Min       1Q   Median       3Q      Max \n",
       "-1.16019 -0.24154  0.03694  0.22453  1.15950 \n",
       "\n",
       "Coefficients:\n",
       "                                           Estimate Std. Error t value Pr(>|t|)\n",
       "(Intercept)                               2.267e+00  1.311e-01  17.290   <2e-16\n",
       "treatmentPre-Washed                       1.330e-01  1.854e-01   0.717   0.4753\n",
       "treatmentStone-Washed                    -4.340e-01  1.854e-01  -2.341   0.0217\n",
       "cycle5 Launderings                       -9.930e-17  1.854e-01   0.000   1.0000\n",
       "cycleControl                              4.660e-01  1.854e-01   2.513   0.0140\n",
       "treatmentPre-Washed:cycle5 Launderings    5.000e-01  2.622e-01   1.907   0.0601\n",
       "treatmentStone-Washed:cycle5 Launderings -1.000e-05  2.622e-01   0.000   1.0000\n",
       "treatmentPre-Washed:cycleControl          4.010e-01  2.622e-01   1.529   0.1301\n",
       "treatmentStone-Washed:cycleControl       -2.320e-01  2.622e-01  -0.885   0.3790\n",
       "                                            \n",
       "(Intercept)                              ***\n",
       "treatmentPre-Washed                         \n",
       "treatmentStone-Washed                    *  \n",
       "cycle5 Launderings                          \n",
       "cycleControl                             *  \n",
       "treatmentPre-Washed:cycle5 Launderings   .  \n",
       "treatmentStone-Washed:cycle5 Launderings    \n",
       "treatmentPre-Washed:cycleControl            \n",
       "treatmentStone-Washed:cycleControl          \n",
       "---\n",
       "Signif. codes:  0 '***' 0.001 '**' 0.01 '*' 0.05 '.' 0.1 ' ' 1\n",
       "\n",
       "Residual standard error: 0.4146 on 81 degrees of freedom\n",
       "Multiple R-squared:  0.5773,\tAdjusted R-squared:  0.5355 \n",
       "F-statistic: 13.83 on 8 and 81 DF,  p-value: 1.858e-12\n"
      ]
     },
     "metadata": {},
     "output_type": "display_data"
    },
    {
     "data": {
      "text/html": [
       "<table>\n",
       "<thead><tr><th scope=col>Res.Df</th><th scope=col>RSS</th><th scope=col>Df</th><th scope=col>Sum of Sq</th><th scope=col>F</th><th scope=col>Pr(&gt;F)</th></tr></thead>\n",
       "<tbody>\n",
       "\t<tr><td>85       </td><td>15.25506 </td><td>NA       </td><td>      NA </td><td>      NA </td><td>       NA</td></tr>\n",
       "\t<tr><td>81       </td><td>13.92544 </td><td> 4       </td><td>1.329628 </td><td>1.933509 </td><td>0.1127415</td></tr>\n",
       "</tbody>\n",
       "</table>\n"
      ],
      "text/latex": [
       "\\begin{tabular}{r|llllll}\n",
       " Res.Df & RSS & Df & Sum of Sq & F & Pr(>F)\\\\\n",
       "\\hline\n",
       "\t 85        & 15.25506  & NA        &       NA  &       NA  &        NA\\\\\n",
       "\t 81        & 13.92544  &  4        & 1.329628  & 1.933509  & 0.1127415\\\\\n",
       "\\end{tabular}\n"
      ],
      "text/markdown": [
       "\n",
       "| Res.Df | RSS | Df | Sum of Sq | F | Pr(>F) |\n",
       "|---|---|---|---|---|---|\n",
       "| 85        | 15.25506  | NA        |       NA  |       NA  |        NA |\n",
       "| 81        | 13.92544  |  4        | 1.329628  | 1.933509  | 0.1127415 |\n",
       "\n"
      ],
      "text/plain": [
       "  Res.Df RSS      Df Sum of Sq F        Pr(>F)   \n",
       "1 85     15.25506 NA       NA        NA        NA\n",
       "2 81     13.92544  4 1.329628  1.933509 0.1127415"
      ]
     },
     "metadata": {},
     "output_type": "display_data"
    }
   ],
   "source": [
    "lmodInt = lm(data = denim, score ~ treatment + cycle + treatment:cycle)\n",
    "summary(lmodInt)\n",
    "anova(lmodNoInt, lmodInt)"
   ]
  },
  {
   "cell_type": "markdown",
   "metadata": {},
   "source": [
    "We see that the p-value of our full model vs. the reduced model is 0.113 which is above 0.05 and so we can not say at the 95% confidence level that the interaction term is significant. Thus we will fail to reject our $H_0$: The reduced model is sufficent."
   ]
  },
  {
   "cell_type": "code",
   "execution_count": null,
   "metadata": {},
   "outputs": [],
   "source": []
  }
 ],
 "metadata": {
  "kernelspec": {
   "display_name": "R",
   "language": "R",
   "name": "ir"
  },
  "language_info": {
   "codemirror_mode": "r",
   "file_extension": ".r",
   "mimetype": "text/x-r-source",
   "name": "R",
   "pygments_lexer": "r",
   "version": "3.6.1"
  }
 },
 "nbformat": 4,
 "nbformat_minor": 2
}
